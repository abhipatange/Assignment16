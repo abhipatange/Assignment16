{
 "cells": [
  {
   "cell_type": "code",
   "execution_count": null,
   "id": "304d07fe-8cd8-4023-b024-a5dd5b758a66",
   "metadata": {},
   "outputs": [],
   "source": [
    "Q1. What is anomaly detection and what is its purpose? "
   ]
  },
  {
   "cell_type": "code",
   "execution_count": null,
   "id": "9f259b29-bfa3-489d-82a1-79f09c6ef2b4",
   "metadata": {},
   "outputs": [],
   "source": [
    "Ans = Anomaly detection identifies suspicious activity that falls outside of your established normal patterns of behavior. \n",
    "A solution protects your system in real-time from instances that could result in significant financial losses, \n",
    "data breaches, and other harmful events."
   ]
  },
  {
   "cell_type": "code",
   "execution_count": null,
   "id": "7a549a28-ee72-4d40-b47c-e6591e71ae73",
   "metadata": {},
   "outputs": [],
   "source": []
  },
  {
   "cell_type": "code",
   "execution_count": null,
   "id": "f48ed2a3-d9a1-4adc-a6a0-c9792df71f72",
   "metadata": {},
   "outputs": [],
   "source": [
    "Q2. What are the key challenges in anomaly detection? \n"
   ]
  },
  {
   "cell_type": "code",
   "execution_count": null,
   "id": "78dd9277-5f1a-44a6-9da4-df36064aa982",
   "metadata": {},
   "outputs": [],
   "source": [
    "Ans = Challenges in anomaly detection include appropriate feature extraction, defining normal behaviors,\n",
    "handling imbalanced distribution of normal and abnormal data, addressing the variations in \n",
    "abnormal behavior, sparse occurrence of abnormal events, environmental variations, camera movements, etc."
   ]
  },
  {
   "cell_type": "code",
   "execution_count": null,
   "id": "d4752490-0c63-4ccb-9902-6c05d2d181f6",
   "metadata": {},
   "outputs": [],
   "source": []
  },
  {
   "cell_type": "code",
   "execution_count": null,
   "id": "b7b4ff9e-8f5c-4ac2-bb55-54039c0433f2",
   "metadata": {},
   "outputs": [],
   "source": [
    "Q3. How does unsupervised anomaly detection differ from supervised anomaly detection?"
   ]
  },
  {
   "cell_type": "code",
   "execution_count": null,
   "id": "8a6826a6-3b2a-4032-aa6d-ab95903b86bc",
   "metadata": {},
   "outputs": [],
   "source": [
    "Ans = The main difference between supervised and unsupervised learning: Labeled data.\n",
    "The main distinction between the two approaches is the use of labeled datasets.\n",
    "To put it simply, supervised learning uses labeled input and output data, while an unsupervised learning algorithm does not."
   ]
  },
  {
   "cell_type": "code",
   "execution_count": null,
   "id": "1aeb0c94-f780-4fe7-98e4-217c80dee098",
   "metadata": {},
   "outputs": [],
   "source": []
  },
  {
   "cell_type": "code",
   "execution_count": null,
   "id": "c6410f85-dab5-4e6f-9841-06bfbbdd9787",
   "metadata": {},
   "outputs": [],
   "source": [
    "Q4. What are the main categories of anomaly detection algorithms? "
   ]
  },
  {
   "cell_type": "code",
   "execution_count": null,
   "id": "4d07ae4b-3773-4dbe-868a-ca89fac2a9ca",
   "metadata": {},
   "outputs": [],
   "source": [
    "Ans = There are three main classes of anomaly detection techniques:\n",
    "      unsupervised, semi-supervised, and supervised."
   ]
  },
  {
   "cell_type": "code",
   "execution_count": null,
   "id": "c5902a2e-f1ab-4c38-bbc8-d2f33fcc878d",
   "metadata": {},
   "outputs": [],
   "source": []
  },
  {
   "cell_type": "code",
   "execution_count": null,
   "id": "607142b4-ac9c-4a91-91d2-2aab2d53a1ad",
   "metadata": {},
   "outputs": [],
   "source": [
    "Q5. What are the main assumptions made by distance-based anomaly detection methods?"
   ]
  },
  {
   "cell_type": "code",
   "execution_count": null,
   "id": "632b71af-276a-44c5-900d-49781cbf41f1",
   "metadata": {},
   "outputs": [],
   "source": [
    "Ans = In this Techniques, \n",
    "it assume that the training data has labeled objects only for the normal class that operate in a semi-supervised mode."
   ]
  },
  {
   "cell_type": "code",
   "execution_count": null,
   "id": "4cf8507b-354d-4e71-ace0-733eb563cb69",
   "metadata": {},
   "outputs": [],
   "source": []
  },
  {
   "cell_type": "code",
   "execution_count": null,
   "id": "472d36c6-7315-4ab4-bbd9-35fa373bb485",
   "metadata": {},
   "outputs": [],
   "source": [
    " Q6. How does the LOF algorithm compute anomaly scores? "
   ]
  },
  {
   "cell_type": "code",
   "execution_count": null,
   "id": "53052a79-09ce-47fd-8327-3e149108225b",
   "metadata": {},
   "outputs": [],
   "source": [
    "Ans = The Local Outlier Factor (LOF) algorithm is an unsupervised anomaly detection method which computes \n",
    "the local density deviation of a given data point with respect to its neighbors. \n",
    "It considers as outliers the samples that have a substantially lower density than their neighbors."
   ]
  },
  {
   "cell_type": "code",
   "execution_count": null,
   "id": "2162a6d0-6c23-4c8d-b048-23cb764f9f71",
   "metadata": {},
   "outputs": [],
   "source": []
  },
  {
   "cell_type": "code",
   "execution_count": null,
   "id": "d29e7bf5-5b2c-4143-9990-a077d30d9c21",
   "metadata": {},
   "outputs": [],
   "source": [
    "Q7. What are the key parameters of the Isolation Forest algorithm? "
   ]
  },
  {
   "cell_type": "code",
   "execution_count": null,
   "id": "76e929c5-5323-481d-9530-abb89d387d84",
   "metadata": {},
   "outputs": [],
   "source": [
    "Ans = number of trees / estimators : how big is the forest.\n",
    "    contamination: the fraction of the dataset that contains abnormal instances, e.g. 0.1 or 10%.\n",
    "    max samples: The number of samples to draw from the training set to train each Isolation Tree with."
   ]
  },
  {
   "cell_type": "code",
   "execution_count": null,
   "id": "59d01f8c-d30d-4b7c-870b-a40726485d57",
   "metadata": {},
   "outputs": [],
   "source": []
  }
 ],
 "metadata": {
  "kernelspec": {
   "display_name": "Python 3 (ipykernel)",
   "language": "python",
   "name": "python3"
  },
  "language_info": {
   "codemirror_mode": {
    "name": "ipython",
    "version": 3
   },
   "file_extension": ".py",
   "mimetype": "text/x-python",
   "name": "python",
   "nbconvert_exporter": "python",
   "pygments_lexer": "ipython3",
   "version": "3.10.8"
  }
 },
 "nbformat": 4,
 "nbformat_minor": 5
}
